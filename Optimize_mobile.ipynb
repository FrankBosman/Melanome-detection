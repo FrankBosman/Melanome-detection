{
 "cells": [
  {
   "cell_type": "markdown",
   "metadata": {},
   "source": [
    "# Convert to mobile program"
   ]
  },
  {
   "cell_type": "code",
   "execution_count": 1,
   "metadata": {},
   "outputs": [],
   "source": [
    "# Import all libraries\n",
    "import torch\n",
    "import torch.nn as nn\n",
    "from torchvision import models\n",
    "import os\n",
    "\n",
    "from torch.utils.mobile_optimizer import optimize_for_mobile"
   ]
  },
  {
   "cell_type": "code",
   "execution_count": 2,
   "metadata": {},
   "outputs": [],
   "source": [
    "## Load the models\n",
    "def load_model(model_name, directory=\"models\"):\n",
    "    # Initiate pretrained model\n",
    "    if \"resnet18\" in model_name:\n",
    "        model = models.resnet18(weights='IMAGENET1K_V1')\n",
    "        model.fc = nn.Linear(model.fc.in_features, 2)\n",
    "    elif \"resnet50\" in model_name:\n",
    "        model = models.resnet50(weights='DEFAULT')\n",
    "        model.fc = nn.Linear(model.fc.in_features, 2)\n",
    "    elif \"alexnet\" in model_name:\n",
    "        model = models.alexnet(weights='DEFAULT')\n",
    "        model.classifier[6] = nn.Linear(model.classifier[6].in_features, 2)\n",
    "    elif \"efficientnet_b0\" in model_name:\n",
    "        model = models.efficientnet_b0(weights='DEFAULT')\n",
    "        model.classifier[1] = nn.Linear(model.classifier[1].in_features, 2)\n",
    "    elif \"efficientnet_b1\" in model_name:\n",
    "        model = models.efficientnet_b1(weights='DEFAULT')\n",
    "        model.classifier[1] = nn.Linear(model.classifier[1].in_features, 2)\n",
    "    elif \"efficientnet_b2\" in model_name:\n",
    "        model = models.efficientnet_b2(weights='DEFAULT')\n",
    "        model.classifier[1] = nn.Linear(model.classifier[1].in_features, 2)\n",
    "    else:\n",
    "        raise ValueError(\"Invalid model name\")\n",
    "    \n",
    "    # Load the trained model weights\n",
    "    model.load_state_dict(torch.load(os.path.join(directory, f\"{model_name}_model.pt\"), weights_only=True))\n",
    "    return model"
   ]
  },
  {
   "cell_type": "code",
   "execution_count": 3,
   "metadata": {},
   "outputs": [],
   "source": [
    "# Define model name and load the model\n",
    "name = \"noCuda_mod_efficientnet_b2\"\n",
    "model_name = f\"{name}_model_lite\"\n",
    "model = load_model(name)\n",
    "\n",
    "# Move the model to CPU first\n",
    "deviceCPU = torch.device(\"cpu\")\n",
    "model = model.to(deviceCPU)\n",
    "\n",
    "# Ensure all model parameters are moved to CPU\n",
    "for param in model.parameters():\n",
    "    param.data = param.data.to(\"cpu\")\n",
    "    if param.grad is not None:\n",
    "        param.grad.data = param.grad.data.to(\"cpu\")\n",
    "\n",
    "for buffer in model.buffers():\n",
    "    buffer.data = buffer.data.to(\"cpu\")\n",
    "\n",
    "# Script the model\n",
    "scripted_module = torch.jit.script(model)\n",
    "scripted_model = scripted_module.to(deviceCPU)  # Ensure it is on the CPU\n",
    "\n",
    "# Optimize for mobile\n",
    "optimized_scripted_module = optimize_for_mobile(scripted_module)\n",
    "\n",
    "# Save the optimized lite interpreter model\n",
    "optimized_scripted_module._save_for_lite_interpreter(f\"models/{model_name}.ptl\")\n"
   ]
  },
  {
   "cell_type": "code",
   "execution_count": 4,
   "metadata": {},
   "outputs": [
    {
     "name": "stdout",
     "output_type": "stream",
     "text": [
      "Model should successfully output:  tensor([[-0.1875,  0.2168]])\n",
      "✅ Model is successfully loaded and running on CPU\n"
     ]
    }
   ],
   "source": [
    "try:\n",
    "    if (not name or not model_name):\n",
    "        raise Exception(\"Run the code block above, or define `name` below\")\n",
    "except Exception as _:\n",
    "    name = \"noCuda_efficientnet_b2\"\n",
    "    model_name = f\"{name}_model_lite\"\n",
    "    print(\"Using default name for the model: \", name)\n",
    "    \n",
    "# Load the .ptl model and enforce CPU\n",
    "model = torch.jit.load(f\"models/{model_name}.ptl\", map_location=\"cpu\")\n",
    "\n",
    "# Verify the model can run with a dummy input\n",
    "dummy_input = torch.randn(1, 3, 224, 224)\n",
    "output = model(dummy_input)\n",
    "print(\"Model should successfully output: \", output)\n",
    "\n",
    "if output is not None:\n",
    "    print(\"✅ Model is successfully loaded and running on CPU\")"
   ]
  }
 ],
 "metadata": {
  "kernelspec": {
   "display_name": "Python",
   "language": "python",
   "name": "python3"
  }
 },
 "nbformat": 4,
 "nbformat_minor": 2
}
