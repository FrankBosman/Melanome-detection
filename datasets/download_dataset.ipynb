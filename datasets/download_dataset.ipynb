{
 "cells": [
  {
   "cell_type": "markdown",
   "metadata": {},
   "source": [
    "## Download the dataset directly from Kaggle\n",
    "The first block installs kaggle and sets my credentials. The second block downloads the dataset from Kaggle.\n",
    "And the last one unzips it.\n",
    "Send Frank a message for the API_KEY."
   ]
  },
  {
   "cell_type": "code",
   "execution_count": null,
   "metadata": {
    "vscode": {
     "languageId": "plaintext"
    }
   },
   "outputs": [],
   "source": [
    "!pip install kaggle\n",
    "!echo '{\"username\":\"frankbsmn\",\"key\":\"API_KEY\"}' > ~/.config/kaggle/kaggle.json"
   ]
  },
  {
   "cell_type": "code",
   "execution_count": null,
   "metadata": {
    "vscode": {
     "languageId": "plaintext"
    }
   },
   "outputs": [],
   "source": [
    "import kaggle\n",
    "kaggle datasets download wanderdust/skin-lesion-analysis-toward-melanoma-detection"
   ]
  },
  {
   "cell_type": "code",
   "execution_count": null,
   "metadata": {
    "vscode": {
     "languageId": "plaintext"
    }
   },
   "outputs": [],
   "source": [
    "! unzip \"./skin-lesion-analysis-toward-melanoma-detection.zip\" -d dataset"
   ]
  }
 ],
 "metadata": {
  "language_info": {
   "name": "python"
  }
 },
 "nbformat": 4,
 "nbformat_minor": 2
}
